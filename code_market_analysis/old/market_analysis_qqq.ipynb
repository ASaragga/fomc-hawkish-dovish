{
 "cells": [
  {
   "attachments": {},
   "cell_type": "markdown",
   "metadata": {},
   "source": [
    "## Import required packages"
   ]
  },
  {
   "cell_type": "code",
   "execution_count": 25,
   "metadata": {},
   "outputs": [],
   "source": [
    "import pandas as pd\n",
    "import numpy as np\n",
    "import statsmodels.api as sm\n",
    "from scipy import stats\n",
    "\n",
    "import plotly as py\n",
    "import plotly.express as px\n",
    "import plotly.graph_objects as go\n",
    "from plotly.subplots import make_subplots\n",
    "import dateutil"
   ]
  },
  {
   "attachments": {},
   "cell_type": "markdown",
   "metadata": {},
   "source": [
    "## Load necessary datasets in form of pandas dataframe"
   ]
  },
  {
   "cell_type": "code",
   "execution_count": 30,
   "metadata": {},
   "outputs": [
    {
     "name": "stdout",
     "output_type": "stream",
     "text": [
      "        Date     Open     High      Low    Close  one_day_return  \\\n",
      "0 2022-04-08  4494.15  4520.41  4474.60  4488.28             NaN   \n",
      "1 2022-04-07  4474.65  4521.16  4450.30  4500.21        0.265803   \n",
      "2 2022-04-06  4494.17  4503.94  4450.04  4481.15       -0.423536   \n",
      "3 2022-04-05  4572.45  4593.45  4514.17  4525.12        0.981221   \n",
      "4 2022-04-04  4547.97  4583.50  4539.21  4582.64        1.271127   \n",
      "\n",
      "   one_week_return  two_week_return  one_month_return  six_week_return  \n",
      "0              NaN              NaN               NaN              NaN  \n",
      "1              NaN              NaN               NaN              NaN  \n",
      "2              NaN              NaN               NaN              NaN  \n",
      "3              NaN              NaN               NaN              NaN  \n",
      "4              NaN              NaN               NaN              NaN  \n"
     ]
    }
   ],
   "source": [
    "## load residual measure data\n",
    "\n",
    "# meeting minutes\n",
    "df_measure_mm = pd.read_excel(\"../data/market_analysis_data/residual_measure_mm.xlsx\", usecols=[\"ReleaseDate\", \"residual_1yr\"])\n",
    "\n",
    "## load QQQ data\n",
    "df_QQQ = pd.read_csv(\"../data/market_analysis_data/SP500_HistoricalPrices.csv\")\n",
    "df_QQQ[\"Date\"] = df_QQQ[\"Date\"].astype('datetime64[ns]')\n",
    "df_QQQ[\"Date\"] = pd.to_datetime(df_QQQ[\"Date\"], format='%Y-%m-%d') \n",
    "df_QQQ[\"one_day_return\"] = df_QQQ[\" Close\"].pct_change(1)*100\n",
    "df_QQQ[\"one_week_return\"] = df_QQQ[\" Close\"].pct_change(5)*100\n",
    "df_QQQ[\"two_week_return\"] = df_QQQ[\" Close\"].pct_change(10)*100\n",
    "df_QQQ[\"one_month_return\"] = df_QQQ[\" Close\"].pct_change(20)*100\n",
    "df_QQQ[\"six_week_return\"] = df_QQQ[\" Close\"].pct_change(30)*100\n",
    "'''\n",
    "df_QQQ[\"Date\"] = pd.to_datetime(df_QQQ[\"Date\"], format='%Y-%m-%d') \n",
    "df_QQQ[\"one_day_return\"] = df_QQQ[\"Adj Close\"].pct_change(1)*100\n",
    "df_QQQ[\"one_week_return\"] = df_QQQ[\"Adj Close\"].pct_change(5)*100\n",
    "df_QQQ[\"two_week_return\"] = df_QQQ[\"Adj Close\"].pct_change(10)*100\n",
    "df_QQQ[\"one_month_return\"] = df_QQQ[\"Adj Close\"].pct_change(20)*100\n",
    "df_QQQ[\"six_week_return\"] = df_QQQ[\"Adj Close\"].pct_change(30)*100\n",
    "'''\n",
    "print(df_QQQ.head())\n"
   ]
  },
  {
   "attachments": {},
   "cell_type": "markdown",
   "metadata": {},
   "source": [
    "## Regress residual measure on Asset returns"
   ]
  },
  {
   "cell_type": "code",
   "execution_count": 36,
   "metadata": {},
   "outputs": [
    {
     "name": "stdout",
     "output_type": "stream",
     "text": [
      "                            OLS Regression Results                            \n",
      "==============================================================================\n",
      "Dep. Variable:                      y   R-squared:                       0.010\n",
      "Model:                            OLS   Adj. R-squared:                  0.005\n",
      "Method:                 Least Squares   F-statistic:                     2.013\n",
      "Date:                Fri, 23 Dec 2022   Prob (F-statistic):              0.157\n",
      "Time:                        19:09:22   Log-Likelihood:                -482.24\n",
      "No. Observations:                 208   AIC:                             968.5\n",
      "Df Residuals:                     206   BIC:                             975.2\n",
      "Df Model:                           1                                         \n",
      "Covariance Type:            nonrobust                                         \n",
      "==============================================================================\n",
      "                 coef    std err          t      P>|t|      [0.025      0.975]\n",
      "------------------------------------------------------------------------------\n",
      "const         -0.0217      0.171     -0.127      0.899      -0.360       0.316\n",
      "x1             0.1534      0.108      1.419      0.157      -0.060       0.366\n",
      "==============================================================================\n",
      "Omnibus:                       18.466   Durbin-Watson:                   2.296\n",
      "Prob(Omnibus):                  0.000   Jarque-Bera (JB):               30.029\n",
      "Skew:                           0.506   Prob(JB):                     3.01e-07\n",
      "Kurtosis:                       4.562   Cond. No.                         1.59\n",
      "==============================================================================\n",
      "\n",
      "Warnings:\n",
      "[1] Standard Errors assume that the covariance matrix of the errors is correctly specified.\n"
     ]
    }
   ],
   "source": [
    "df_merge = pd.merge(df_measure_mm, df_QQQ, left_on=\"ReleaseDate\", right_on=\"Date\", how=\"left\")\n",
    "df_merge = df_merge.dropna()\n",
    "# (df_measure_mm, \"ReleaseDate\"), (df_measure_sp, \"Date\"), (df_measure_pc, \"EndDate\")\n",
    "#print(df_merge.to_csv(\"temp.csv\"))\n",
    "\n",
    "# run OLS\n",
    "var_x = df_merge[\"residual_1yr\"].tolist() # our_measure, residual_1yr\n",
    "var_x = sm.add_constant(var_x)\n",
    "\n",
    "var_y = df_merge[\"one_week_return\"].tolist() # one_day_return, one_week_return, two_week_return, one_month_return\n",
    "\n",
    "result = sm.OLS(var_y, var_x).fit()\n",
    "print(result.summary())"
   ]
  },
  {
   "cell_type": "code",
   "execution_count": null,
   "metadata": {},
   "outputs": [],
   "source": [
    "'''\n",
    "## load BTC data\n",
    "df_BTC = pd.read_csv(\"../data/market_analysis_data/BTC.csv\")\n",
    "df_BTC[\"Date\"] = pd.to_datetime(df_BTC[\"Date\"], format='%Y-%m-%d')\n",
    "df_BTC[\"one_day_return\"] = df_BTC[\"Adj Close\"].pct_change(-14)*100\n",
    "'''"
   ]
  }
 ],
 "metadata": {
  "kernelspec": {
   "display_name": "base",
   "language": "python",
   "name": "python3"
  },
  "language_info": {
   "codemirror_mode": {
    "name": "ipython",
    "version": 3
   },
   "file_extension": ".py",
   "mimetype": "text/x-python",
   "name": "python",
   "nbconvert_exporter": "python",
   "pygments_lexer": "ipython3",
   "version": "3.7.6"
  },
  "orig_nbformat": 4,
  "vscode": {
   "interpreter": {
    "hash": "dc07d24e2f18896857f0b2a651fe84ba40ce7b297e58d8804a308c8039f752a6"
   }
  }
 },
 "nbformat": 4,
 "nbformat_minor": 2
}
